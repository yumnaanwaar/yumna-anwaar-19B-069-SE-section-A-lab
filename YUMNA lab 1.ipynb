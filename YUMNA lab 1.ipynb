{
 "cells": [
  {
   "cell_type": "markdown",
   "metadata": {},
   "source": [
    "# YUMNA 19B-069-SE LAB1(HW)"
   ]
  },
  {
   "cell_type": "code",
   "execution_count": 1,
   "metadata": {},
   "outputs": [
    {
     "name": "stdout",
     "output_type": "stream",
     "text": [
      "Enter the value in centigrade: 56.8\n",
      "134.24\n"
     ]
    }
   ],
   "source": [
    "#1\n",
    "temp_cent = eval(input(\"Enter the value in centigrade: \"))\n",
    "calculation = (9/5)*(temp_cent)+32\n",
    "print(calculation)"
   ]
  },
  {
   "cell_type": "code",
   "execution_count": 2,
   "metadata": {},
   "outputs": [
    {
     "name": "stdout",
     "output_type": "stream",
     "text": [
      "Enter the value in fahrenhiet: 134.24\n",
      "56.800000000000004\n"
     ]
    }
   ],
   "source": [
    "#2\n",
    "temp_fah = eval(input(\"Enter the value in fahrenhiet: \"))\n",
    "calculation = (temp_fah - 32) * (5/9)\n",
    "print(calculation)"
   ]
  },
  {
   "cell_type": "code",
   "execution_count": 3,
   "metadata": {},
   "outputs": [
    {
     "name": "stdout",
     "output_type": "stream",
     "text": [
      "Enter the length: 5\n",
      "Enter the breadth: 4\n",
      "area of rectangle is:  20\n"
     ]
    }
   ],
   "source": [
    "#3\n",
    "length = eval(input(\"Enter the length: \"))\n",
    "breadth = eval(input(\"Enter the breadth: \"))\n",
    "calculation = length*breadth\n",
    "print(\"area of rectangle is: \",calculation)"
   ]
  },
  {
   "cell_type": "code",
   "execution_count": 4,
   "metadata": {},
   "outputs": [
    {
     "name": "stdout",
     "output_type": "stream",
     "text": [
      "Enter the radius: 5\n",
      "volume of sphere:  523.5987755982989\n"
     ]
    }
   ],
   "source": [
    "#4\n",
    "from math import pi\n",
    "radius = eval(input(\"Enter the radius: \"))\n",
    "calculation = (4/3 * pi * radius**3)\n",
    "print(\"volume of sphere: \",calculation)"
   ]
  },
  {
   "cell_type": "code",
   "execution_count": 1,
   "metadata": {},
   "outputs": [
    {
     "name": "stdout",
     "output_type": "stream",
     "text": [
      "Enter your name: Yumna\n",
      "YUMNA\n",
      "yumna\n",
      "Yumna\n",
      "Yumna\n"
     ]
    }
   ],
   "source": [
    "#5\n",
    "name = str(input(\"Enter your name: \"))\n",
    "upper_case = name.upper()\n",
    "print(upper_case)\n",
    "lower_case = name.lower()\n",
    "print(lower_case)\n",
    "title_case = name.title()\n",
    "print(title_case)\n",
    "capatalized = name.capitalize()\n",
    "print(capatalized)"
   ]
  },
  {
   "cell_type": "code",
   "execution_count": null,
   "metadata": {},
   "outputs": [],
   "source": []
  }
 ],
 "metadata": {
  "kernelspec": {
   "display_name": "Python 3",
   "language": "python",
   "name": "python3"
  },
  "language_info": {
   "codemirror_mode": {
    "name": "ipython",
    "version": 3
   },
   "file_extension": ".py",
   "mimetype": "text/x-python",
   "name": "python",
   "nbconvert_exporter": "python",
   "pygments_lexer": "ipython3",
   "version": "3.7.3"
  }
 },
 "nbformat": 4,
 "nbformat_minor": 2
}
