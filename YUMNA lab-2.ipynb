{
 "cells": [
  {
   "cell_type": "markdown",
   "metadata": {},
   "source": [
    "# YUMNA 19B-069-SE LAB-2"
   ]
  },
  {
   "cell_type": "code",
   "execution_count": 7,
   "metadata": {},
   "outputs": [
    {
     "name": "stdout",
     "output_type": "stream",
     "text": [
      "9\n"
     ]
    }
   ],
   "source": [
    "from datetime import date\n",
    "first_date = date(2019, 10, 20)\n",
    "last_date = date(2019, 10, 29)\n",
    "variable_name = last_date - first_date\n",
    "print(variable_name.days)"
   ]
  },
  {
   "cell_type": "code",
   "execution_count": 8,
   "metadata": {},
   "outputs": [
    {
     "name": "stdout",
     "output_type": "stream",
     "text": [
      "['Jan', 'Feb', 'Mar', 'May']\n",
      "['Jan', 'Feb', 'Mar', 'May']\n",
      "['Jan', 'Feb', 'Mar', 'May', 'Jun']\n",
      "['Jan', 'Feb', 'Mar', 'May', 'Jun']\n",
      "**************************\n",
      "Feb\n",
      "['Jan', 'Mar', 'May', 'Jun']\n",
      "May\n",
      "['Jan', 'Feb', 'Mar', 'Jun']\n",
      "**************************\n",
      "['Jan', 'May', 'Jun']\n",
      "['Jan', 'Mar', 'Jun']\n",
      "**************************\n",
      "['May', 'Jun', 'Jan']\n",
      "['Mar', 'Jun', 'Jan']\n",
      "**************************\n",
      "['Jan', 'Jun', 'May']\n",
      "['Jan', 'Jun', 'Mar']\n",
      "**************************\n"
     ]
    }
   ],
   "source": [
    "monthsL = ['Jan','Feb','Mar','May']\n",
    "monthsT = ['Jan','Feb','Mar','May']\n",
    "print(monthsL)\n",
    "print(monthsT)\n",
    "#b\n",
    "monthsL.append('Jun')\n",
    "monthsT.append('Jun')\n",
    "print(monthsL)\n",
    "print(monthsT)\n",
    "print(\"**************************\")\n",
    "#c\n",
    "print(monthsL.pop(1))\n",
    "print(monthsL)\n",
    "print(monthsT.pop(3))\n",
    "print(monthsT)\n",
    "print(\"**************************\")\n",
    "#d\n",
    "monthsL.remove('Mar')\n",
    "print(monthsL)\n",
    "monthsT.remove('Feb')\n",
    "print(monthsT)\n",
    "print(\"**************************\")\n",
    "#e\n",
    "monthsL.sort(reverse = True)\n",
    "print(monthsL)\n",
    "monthsT.sort(reverse = True)\n",
    "print(monthsT)\n",
    "print(\"**************************\")\n",
    "#f\n",
    "monthsL.sort()\n",
    "print(monthsL)\n",
    "monthsT.sort()\n",
    "print(monthsT)\n",
    "print(\"**************************\")"
   ]
  },
  {
   "cell_type": "code",
   "execution_count": 25,
   "metadata": {},
   "outputs": [
    {
     "name": "stdout",
     "output_type": "stream",
     "text": [
      "(a) is: 15.454813220625093\n",
      "(b) is: 0.0\n",
      "(c) is: 16.970562748477143\n",
      "(d) is: 23.63538607229299\n"
     ]
    }
   ],
   "source": [
    "from math import pi\n",
    "from math import sin\n",
    "#a\n",
    "Heighta= 16 * sin(pi * (75/180))\n",
    "print (\"(a) is: \"+str(Heighta) )\n",
    "#b\n",
    "Heightb= 20 * sin(pi * (0/180))\n",
    "print (\"(b) is: \"+str(Heightb) )\n",
    "#c\n",
    "Heightc= 24 * sin(pi * (45/180))\n",
    "print (\"(c) is: \"+str(Heightc) )\n",
    "#d\n",
    "Heightd= 24 * sin(pi * (80/180))\n",
    "print (\"(d) is: \"+str(Heightd) )"
   ]
  },
  {
   "cell_type": "code",
   "execution_count": 5,
   "metadata": {},
   "outputs": [
    {
     "name": "stdout",
     "output_type": "stream",
     "text": [
      "2\n",
      "5\n",
      "[10, 8, 6, 4, 2]\n",
      "[2, 4, 6, 8, 10, 2]\n"
     ]
    }
   ],
   "source": [
    "#a\n",
    "lst = [2,4,6,8,10]\n",
    "Lengthoflist = len(lst)\n",
    "middle_index = int(Lengthoflist/2)\n",
    "print (middle_index)\n",
    "#b\n",
    "lst = [2,4,6,8,10]\n",
    "middle_element = len(lst)\n",
    "print (middle_element)\n",
    "#c\n",
    "lst = [2,4,6,8,10]\n",
    "lst.sort(reverse = True)\n",
    "print (lst)\n",
    "#d\n",
    "lst = [2,4,6,8,10]\n",
    "lst.extend([2])\n",
    "print (lst)"
   ]
  },
  {
   "cell_type": "code",
   "execution_count": 7,
   "metadata": {},
   "outputs": [
    {
     "name": "stdout",
     "output_type": "stream",
     "text": [
      "6.5\n",
      "My fullname is John Fitzgerald Kennedy\n"
     ]
    }
   ],
   "source": [
    "#a\n",
    "a=6\n",
    "b=7\n",
    "#b\n",
    "c=(a+b)/2\n",
    "print(c)\n",
    "#c\n",
    "inventory = ['paper', 'staples','pencils']\n",
    "#d\n",
    "first = 'John'\n",
    "middle = 'Fitzgerald'\n",
    "last = 'Kennedy'\n",
    "#e\n",
    "fullname = first + \" \" + middle + \" \" + last\n",
    "print(\"My fullname is \" + fullname)"
   ]
  },
  {
   "cell_type": "code",
   "execution_count": 2,
   "metadata": {},
   "outputs": [
    {
     "data": {
      "text/plain": [
       "True"
      ]
     },
     "execution_count": 2,
     "metadata": {},
     "output_type": "execute_result"
    }
   ],
   "source": [
    "#a\n",
    "len(\"anachronistically\")==1+ len(\"counterintuitive\")"
   ]
  },
  {
   "cell_type": "code",
   "execution_count": 3,
   "metadata": {},
   "outputs": [
    {
     "data": {
      "text/plain": [
       "True"
      ]
     },
     "execution_count": 3,
     "metadata": {},
     "output_type": "execute_result"
    }
   ],
   "source": [
    "#b\n",
    "\"misinterpretation\"<\"misrepresentation\""
   ]
  },
  {
   "cell_type": "code",
   "execution_count": 5,
   "metadata": {},
   "outputs": [
    {
     "data": {
      "text/plain": [
       "True"
      ]
     },
     "execution_count": 5,
     "metadata": {},
     "output_type": "execute_result"
    }
   ],
   "source": [
    "#c\n",
    "\"floccinaucinihilipilification\".find(\"e\")==-1"
   ]
  },
  {
   "cell_type": "code",
   "execution_count": 6,
   "metadata": {},
   "outputs": [
    {
     "data": {
      "text/plain": [
       "True"
      ]
     },
     "execution_count": 6,
     "metadata": {},
     "output_type": "execute_result"
    }
   ],
   "source": [
    "#d\n",
    "len(\"counterrevolution\") == len(\"counter\") + len(\"resolution\")"
   ]
  },
  {
   "cell_type": "code",
   "execution_count": 1,
   "metadata": {},
   "outputs": [
    {
     "name": "stdout",
     "output_type": "stream",
     "text": [
      "True\n",
      "True\n",
      "True\n",
      "True\n"
     ]
    }
   ],
   "source": [
    "#program-7\n",
    "#a))(0,0)\n",
    "x=0\n",
    "y=0\n",
    "if x <= 10 and y <= 10:\n",
    "  print(\"True\")\n",
    "else:\n",
    "  print(\"false\")\n",
    "#b)(10,10)\n",
    "x=10\n",
    "y=10\n",
    "if x <= 10 and y <=10:\n",
    "  print(\"True\")\n",
    "else:\n",
    "  print(\"false\")\n",
    "#c)(6,6)\n",
    "x=6\n",
    "y=6\n",
    "if x <= 10 and y <= 10:\n",
    "  print(\"True\")\n",
    "else:\n",
    "  print(\"false\")\n",
    "#d)(7,8)\n",
    "x=7\n",
    "y=8\n",
    "if x <= 10 and y <= 10:\n",
    "  print(\"True\")\n",
    "else:\n",
    "  print(\"false\")"
   ]
  }
 ],
 "metadata": {
  "kernelspec": {
   "display_name": "Python 3",
   "language": "python",
   "name": "python3"
  },
  "language_info": {
   "codemirror_mode": {
    "name": "ipython",
    "version": 3
   },
   "file_extension": ".py",
   "mimetype": "text/x-python",
   "name": "python",
   "nbconvert_exporter": "python",
   "pygments_lexer": "ipython3",
   "version": "3.7.4"
  }
 },
 "nbformat": 4,
 "nbformat_minor": 2
}
