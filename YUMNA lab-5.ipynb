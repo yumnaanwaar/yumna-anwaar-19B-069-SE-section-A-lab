{
 "cells": [
  {
   "cell_type": "markdown",
   "metadata": {},
   "source": [
    "# YUMNA 19B-069-SE (SEC-A) LAB-5"
   ]
  },
  {
   "cell_type": "code",
   "execution_count": 1,
   "metadata": {},
   "outputs": [
    {
     "name": "stdout",
     "output_type": "stream",
     "text": [
      "The area of cylinder is: 131.94689145077132 cm²\n",
      "The volume of cylinder is: 113.09733552923255 cm³\n"
     ]
    }
   ],
   "source": [
    "#program-1\n",
    "from math import pi\n",
    "def cylinderarea(r,h):\n",
    "    area = (2 * pi * r * h) + (2 * pi * (r**2))\n",
    "    print(\"The area of cylinder is: {0} cm\\u00b2\".format(area))\n",
    "    return\n",
    "cylinderarea(3,4)\n",
    "\n",
    "def cylindervolume(r,h):\n",
    "    volume = (pi * (r**2) * h)\n",
    "    print(\"The volume of cylinder is: {0} cm\\u00b3\".format(volume))\n",
    "    return\n",
    "cylindervolume(3,4) "
   ]
  },
  {
   "cell_type": "code",
   "execution_count": 2,
   "metadata": {},
   "outputs": [
    {
     "name": "stdout",
     "output_type": "stream",
     "text": [
      "The area of rectangle is: 12 cm²\n"
     ]
    }
   ],
   "source": [
    "#program-2\n",
    "def rectangleArea(l,b):\n",
    "    area = (l * b)\n",
    "    print(\"The area of rectangle is: {0} cm\\u00b2\".format(area))\n",
    "    return\n",
    "rectangleArea(4,3)"
   ]
  },
  {
   "cell_type": "code",
   "execution_count": 3,
   "metadata": {},
   "outputs": [
    {
     "name": "stdout",
     "output_type": "stream",
     "text": [
      "Enter the first term of the sequence: 3\n",
      "Enter the common difference of the sequence: 6\n",
      "Do u want to find the nth term Yes or No: yes\n",
      "Enter the nth term u want to find: 35\n",
      "207\n",
      "Dou want to find another nth term of the sequence: yes\n",
      "Enter the nth term u want to find: 35\n",
      "207\n",
      "Dou want to find another nth term of the sequence: 56\n"
     ]
    },
    {
     "data": {
      "text/plain": [
       "('The answer of the nth term you entered is: ', 207)"
      ]
     },
     "execution_count": 3,
     "metadata": {},
     "output_type": "execute_result"
    }
   ],
   "source": [
    "#program-3\n",
    "def sequence(a,d):\n",
    "    x = str(input(\"Do u want to find the nth term Yes or No: \"))\n",
    "    y =x.casefold()\n",
    "    #print(y)\n",
    "    while(y == \"yes\"):\n",
    "        n = int(input(\"Enter the nth term u want to find: \"))\n",
    "        tn = a + ((n - 1) * d)\n",
    "        print(tn)\n",
    "        x = input(\"Dou want to find another nth term of the sequence: \")\n",
    "        y = x.casefold()\n",
    "    return \"The answer of the nth term you entered is: \",tn\n",
    "a = int(input(\"Enter the first term of the sequence: \" ))\n",
    "d = int(input(\"Enter the common difference of the sequence: \"))\n",
    "sequence(a,d)"
   ]
  },
  {
   "cell_type": "code",
   "execution_count": 5,
   "metadata": {},
   "outputs": [
    {
     "name": "stdout",
     "output_type": "stream",
     "text": [
      "Enter the text to check for palindrome: MOM\n",
      "The text is palindrome: \n"
     ]
    }
   ],
   "source": [
    "#program-4\n",
    "def palindrome(text):\n",
    "    x = text.casefold()\n",
    "    #print(x)\n",
    "    y = len(text)\n",
    "    #print(y)\n",
    "    z = x[y::-1]\n",
    "    #print(z)\n",
    "    if x == z:\n",
    "        print(\"The text is palindrome: \")\n",
    "    else:\n",
    "        print(\"sorry!\")\n",
    "    return\n",
    "text = str(input(\"Enter the text to check for palindrome: \"))\n",
    "palindrome(text)   "
   ]
  },
  {
   "cell_type": "code",
   "execution_count": 2,
   "metadata": {},
   "outputs": [
    {
     "name": "stdout",
     "output_type": "stream",
     "text": [
      "\t\t\tBOARD OF INTERMIDIATE EDUCATION KARACHI\n",
      "-----------------------------------------------------------------------------------\n",
      "Enter your Name: yumna\n",
      "Enter your Father Name: anwaar\n",
      "Enter your Date of Birth: 22\n",
      "Enter your combined maths marks: 97\n",
      "Enter your combined english marks: 70\n",
      "Enter your combined chemistry marks: 94\n",
      "Enter your combined physics marks: 89\n",
      "Enter your combined islamiyat marks: 70\n",
      "Enter your combined urdu marks: 84\n",
      "________________________________________________________________________________\n",
      "Name| yumna \tFather Name| anwaar \tDate of Birth| 22 \t\n",
      "________________________________________________________________________________\n",
      "Maths= \t\t200| 97\n",
      "English \t200| 70\n",
      "Chemisrty \t200| 94\n",
      "Physics \t200| 89\n",
      "Islamiyat \t200| 70\n",
      "Urdu \t\t200| 84\n",
      "______________________________________________________________________________\n",
      "Total Marks| 504 \tPercentage| 84.0 \tGrade| A+\n",
      "______________________________________________________________________________\n"
     ]
    }
   ],
   "source": [
    "#program-5\n",
    "print(\"\\t\\t\\tBOARD OF INTERMIDIATE EDUCATION KARACHI\")\n",
    "print(\"-----------------------------------------------------------------------------------\")\n",
    "def marksheet():\n",
    "    name=str(input(\"Enter your Name: \"))\n",
    "    father_name=str(input(\"Enter your Father Name: \"))\n",
    "    date_of_Birth=eval(input(\"Enter your Date of Birth: \"))\n",
    "    maths=eval(input(\"Enter your combined maths marks: \"))\n",
    "    english=eval(input(\"Enter your combined english marks: \"))\n",
    "    chemistry=eval(input(\"Enter your combined chemistry marks: \"))\n",
    "    physics=eval(input(\"Enter your combined physics marks: \"))\n",
    "    islamiyat=eval(input(\"Enter your combined islamiyat marks: \"))\n",
    "    urdu=eval(input(\"Enter your combined urdu marks: \"))\n",
    "    print(\"________________________________________________________________________________\")\n",
    "    \n",
    "    print(\"Name|\",name,\"\\tFather Name|\",father_name,\"\\tDate of Birth|\",date_of_Birth,\"\\t\")\n",
    "    print(\"________________________________________________________________________________\")\n",
    "    \n",
    "    print(\"Maths=\",\"\\t\\t200|\",maths)\n",
    "    print(\"English\",\"\\t200|\",english)\n",
    "    print(\"Chemisrty\",\"\\t200|\",chemistry)\n",
    "    print(\"Physics\",\"\\t200|\",physics)\n",
    "    print(\"Islamiyat\",\"\\t200|\",islamiyat)\n",
    "    print(\"Urdu\",\"\\t\\t200|\",urdu)\n",
    "    sum_of_marks=maths+english+chemistry+physics+islamiyat+urdu\n",
    "    total_marks=600\n",
    "    percentage=(sum_of_marks/total_marks)*100\n",
    "    if percentage >= 80:\n",
    "        Grade=\"A+\"\n",
    "    elif percentage >=70:\n",
    "        Grade=\"A\"\n",
    "    elif percentage >=60:\n",
    "        Grade=\"B\"\n",
    "    elif percentage >=50:\n",
    "        Grade=\"C\"\n",
    "    elif percentage >=40:\n",
    "        Grade=\"D\"\n",
    "    elif percenatge >=30:\n",
    "        Grade=\"FAIL\"\n",
    "    print(\"______________________________________________________________________________\")\n",
    "    print(\"Total Marks|\",sum_of_marks,\"\\tPercentage|\",percentage,\"\\tGrade|\",Grade)\n",
    "    print(\"______________________________________________________________________________\")\n",
    "marksheet()"
   ]
  },
  {
   "cell_type": "code",
   "execution_count": 3,
   "metadata": {},
   "outputs": [
    {
     "ename": "NameError",
     "evalue": "name 'm' is not defined",
     "output_type": "error",
     "traceback": [
      "\u001b[1;31m---------------------------------------------------------------------------\u001b[0m",
      "\u001b[1;31mNameError\u001b[0m                                 Traceback (most recent call last)",
      "\u001b[1;32m<ipython-input-3-61e35de0ce8a>\u001b[0m in \u001b[0;36m<module>\u001b[1;34m\u001b[0m\n\u001b[0;32m      8\u001b[0m     \u001b[0mprint\u001b[0m\u001b[1;33m(\u001b[0m\u001b[1;34m\"The force of inertia is: {0}\"\u001b[0m\u001b[1;33m.\u001b[0m\u001b[0mformat\u001b[0m\u001b[1;33m(\u001b[0m\u001b[0mf\u001b[0m\u001b[1;33m)\u001b[0m\u001b[1;33m,\u001b[0m \u001b[1;34m\"N\"\u001b[0m\u001b[1;33m)\u001b[0m\u001b[1;33m\u001b[0m\u001b[1;33m\u001b[0m\u001b[0m\n\u001b[0;32m      9\u001b[0m     \u001b[1;32mreturn\u001b[0m\u001b[1;33m\u001b[0m\u001b[1;33m\u001b[0m\u001b[0m\n\u001b[1;32m---> 10\u001b[1;33m \u001b[0minertia\u001b[0m\u001b[1;33m(\u001b[0m\u001b[0mm\u001b[0m\u001b[1;33m,\u001b[0m \u001b[0mv\u001b[0m\u001b[1;33m,\u001b[0m \u001b[0mt\u001b[0m\u001b[1;33m)\u001b[0m\u001b[1;33m\u001b[0m\u001b[1;33m\u001b[0m\u001b[0m\n\u001b[0m\u001b[0;32m     11\u001b[0m \u001b[1;33m\u001b[0m\u001b[0m\n\u001b[0;32m     12\u001b[0m \u001b[1;31m# Second Law\u001b[0m\u001b[1;33m\u001b[0m\u001b[1;33m\u001b[0m\u001b[1;33m\u001b[0m\u001b[0m\n",
      "\u001b[1;31mNameError\u001b[0m: name 'm' is not defined"
     ]
    }
   ],
   "source": [
    "#program-6\n",
    "# First Law\n",
    "def inertia(m, v, t):\n",
    "    m = eval(input(\"Enter the mass of the object (in kg): \"))\n",
    "    v = eval(input(\"Enter the velocity with which objec is travelling (in m/s): \"))\n",
    "    t = eval(input(\"Enter the time (in s): \"))\n",
    "    f = (m * v) / t\n",
    "    print(\"The force of inertia is: {0}\".format(f), \"N\")\n",
    "    return\n",
    "inertia(m, v, t)\n",
    "\n",
    "# Second Law\n",
    "def secondLaw(m, a):\n",
    "    m = eval(input(\"Enter the mass of the object (in kg): \"))\n",
    "    a = eval(input(\"Enter the acceleration of the object (in m/s^2): \"))\n",
    "    f = m * a\n",
    "    print(\"The force is: {0}\".format(f), \"N\")\n",
    "    return\n",
    "secondLaw(m, a)\n",
    "\n",
    "# Third Law\n",
    "def thirdLaw(f1, f2):\n",
    "    f1 = eval(input(\"Enter the force 1 (in N): \"))\n",
    "    f2 = eval(input(\"Enter the force 2 (in N): \"))\n",
    "    if f1 == f2:\n",
    "        print(\"proved\")\n",
    "    else:\n",
    "        print(\"sorry!\")\n",
    "    return\n",
    "thirdLaw(f1, f2)"
   ]
  },
  {
   "cell_type": "code",
   "execution_count": 3,
   "metadata": {},
   "outputs": [
    {
     "name": "stdout",
     "output_type": "stream",
     "text": [
      "Enter the velocity of projectile (in m/s): 12\n",
      "Enter the angle of projectile: 60\n",
      "time for maximum height is:  1.1645589995450858 s\n",
      "total time of flight is:  2.3291179990901716 s\n",
      "maximum height is:  6.645368550765112 m\n",
      "Range of projectile is:  -8.63684452348124 m\n"
     ]
    }
   ],
   "source": [
    "#program-7\n",
    "from math import sin,pi\n",
    "v = eval(input(\"Enter the velocity of projectile (in m/s): \"))\n",
    "angle = eval(input(\"Enter the angle of projectile: \"))\n",
    "angle_in_radian = angle * (pi/100)\n",
    "g = 9.8\n",
    "def time_maximum_height(V,g):\n",
    "    t = (v * (sin(angle_in_radian))) / g\n",
    "    print(\"time for maximum height is: \", t, \"s\")\n",
    "    return\n",
    "time_maximum_height(v, g)\n",
    "\n",
    "def total_time(v, g):\n",
    "    T = 2 * ((v * (sin(angle_in_radian))) / g)\n",
    "    print(\"total time of flight is: \", T, \"s\")\n",
    "    return\n",
    "total_time(v, g)\n",
    "\n",
    "def max_height(v, g):\n",
    "    h = (v ** 2) * (sin(angle_in_radian) ** 2) / (2 * g)\n",
    "    print(\"maximum height is: \", h,\"m\")\n",
    "    return\n",
    "max_height(v, g)\n",
    "\n",
    "def Range(v, g):\n",
    "    R = ((v ** 2) * (sin(2 * (angle_in_radian))) / g)\n",
    "    print(\"Range of projectile is: \", R, \"m\")\n",
    "    return\n",
    "Range(v, g)"
   ]
  },
  {
   "cell_type": "code",
   "execution_count": 4,
   "metadata": {},
   "outputs": [
    {
     "name": "stdout",
     "output_type": "stream",
     "text": [
      "Enter your name: yumna\n",
      "anmuy\n"
     ]
    }
   ],
   "source": [
    "#program-8\n",
    "def reversename(name):\n",
    "    x = len(name)\n",
    "    y = name[x :: -1]\n",
    "    print(y)\n",
    "    return\n",
    "name = str(input(\"Enter your name: \"))\n",
    "reversename(name)"
   ]
  },
  {
   "cell_type": "code",
   "execution_count": 5,
   "metadata": {},
   "outputs": [
    {
     "name": "stdout",
     "output_type": "stream",
     "text": [
      "['o', 'l', 's', 's', 'v', 't', 'f', 'u', 'h', 't', 'l', 'p', 'z', 'f', 'b', 't', 'u', 'h']\n"
     ]
    }
   ],
   "source": [
    "#program-9\n",
    "def encrypt(text,step):\n",
    "    outText = []\n",
    "    encryptText = []\n",
    "\n",
    "    uppercase = ['A','B','C','D','E','F','G','H','I','J','K','L','M','N','P','Q','R','S','T','U','V','W','X','Y','Z']\n",
    "    lowercase = ['a','b','c','d','e','f','g','h','i','j','k','l','m','n','o','p','q','r','s','t','u','v','w','x','y','z']\n",
    "    \n",
    "    for eachLetter in text:\n",
    "        if eachLetter in uppercase:\n",
    "            index = uppercase.index(eachLetter)\n",
    "            encrypting = (index + step)% 26\n",
    "            encryptText.append(encrypting)\n",
    "            newLetter = uppercase[encrypting]\n",
    "            outText.append(newLetter)\n",
    "        elif eachLetter in lowercase:\n",
    "            index = lowercase.index(eachLetter)\n",
    "            encrypting = (index + step)% 26\n",
    "            encryptText.append(encrypting)\n",
    "            newLetter = lowercase[encrypting]\n",
    "            outText.append(newLetter)\n",
    "    print(outText)\n",
    "    return\n",
    "encrypt(\"hello my name is yumna\", 7)"
   ]
  },
  {
   "cell_type": "code",
   "execution_count": 17,
   "metadata": {},
   "outputs": [
    {
     "name": "stdout",
     "output_type": "stream",
     "text": [
      "Enter the starting value of the range: 45\n",
      "Enter the ending value of the range: 60\n",
      "0.8509035245341184 , 0.9017883476488092 , 0.123573122745224 , -0.7682546613236668 , -0.9537526527594719 , -0.26237485370392877 , 0.6702291758433747 , 0.9866275920404853 , 0.39592515018183416 , -0.5587890488516163 , -0.9997551733586199 , -0.5215510020869119 , 0.43616475524782494 , 0.9928726480845371 , 0.6367380071391379 , \n",
      "\n",
      "0.5253219888177297 , -0.4321779448847783 , -0.9923354691509287 , -0.6401443394691997 , 0.3005925437436371 , 0.9649660284921133 , 0.7421541968137826 , -0.16299078079570548 , -0.9182827862121189 , -0.8293098328631502 , 0.022126756261955736 , 0.853220107722584 , 0.8998668269691937 , 0.11918013544881928 , -0.7710802229758452 , \n",
      "\n",
      "1.6197751905438615 , -2.086613531121382 , -0.12452756813273719 , 1.2001272431162864 , -3.172908552159191 , -0.27190061199763077 , 0.9030861493754312 , -6.053272382792838 , -0.4311581967195641 , 0.6738001006480598 , -45.18308791052113 , -0.6112736881917098 , 0.48469922679209587 , 8.330856852490458 , -0.8257740091968151 , \n",
      "\n"
     ]
    }
   ],
   "source": [
    "#program-10\n",
    "from math import sin,cos,tan,pi\n",
    "startingValue = eval(input(\"Enter the starting value of the range: \"))\n",
    "endingValue = eval(input(\"Enter the ending value of the range: \"))\n",
    "def trig_sin(startingValue, endingValue):\n",
    "    for i in range(startingValue,endingValue):\n",
    "        calSin = sin(i)\n",
    "        print(calSin, end = \" , \")\n",
    "    return\n",
    "trig_sin(startingValue, endingValue)\n",
    "print(\"\\n\")\n",
    "\n",
    "def trig_cos(startingValue, endingValue):\n",
    "    for i in range(startingValue, endingValue):\n",
    "        calCos = cos(i)\n",
    "        print(calCos, end = \" , \")\n",
    "    return\n",
    "trig_cos(startingValue, endingValue)\n",
    "print(\"\\n\")\n",
    "\n",
    "def trig_tan(startingValue, endingValue):\n",
    "    for i in range(startingValue, endingValue):\n",
    "        calTan = tan(i)\n",
    "        print(calTan, end = \" , \")\n",
    "    return\n",
    "trig_tan(startingValue, endingValue)\n",
    "print(\"\\n\")"
   ]
  },
  {
   "cell_type": "code",
   "execution_count": 2,
   "metadata": {},
   "outputs": [
    {
     "name": "stdout",
     "output_type": "stream",
     "text": [
      "Area including semi circle is:  153.93804002589985 cm² \n",
      "Area excluding semi circle is 76.96902001294993 cm²\n",
      "Perimeter excluding semi circles is:  98.96016858807847 cm\n",
      "Perimeter including semi circles is:  112.96016858807847 cm\n"
     ]
    }
   ],
   "source": [
    "#program-11\n",
    "from math import pi\n",
    "R = 14/2\n",
    "r = R/2\n",
    "area_include = pi * R ** 2\n",
    "area_exclude = (pi * R**2) - (pi * r**2) - (pi * r**2)\n",
    "Arc_Length = pi * R\n",
    "arc_length = pi * r**2\n",
    "print(\"Area including semi circle is: \",area_include,\"cm\\u00b2 \\nArea excluding semi circle is\",area_exclude,\"cm\\u00b2\")\n",
    "print(\"Perimeter excluding semi circles is: \",Arc_Length+arc_length+arc_length,\"cm\")\n",
    "print(\"Perimeter including semi circles is: \",Arc_Length+arc_length+arc_length+(R*2),\"cm\")"
   ]
  },
  {
   "cell_type": "code",
   "execution_count": null,
   "metadata": {},
   "outputs": [],
   "source": []
  }
 ],
 "metadata": {
  "kernelspec": {
   "display_name": "Python 3",
   "language": "python",
   "name": "python3"
  },
  "language_info": {
   "codemirror_mode": {
    "name": "ipython",
    "version": 3
   },
   "file_extension": ".py",
   "mimetype": "text/x-python",
   "name": "python",
   "nbconvert_exporter": "python",
   "pygments_lexer": "ipython3",
   "version": "3.7.4"
  }
 },
 "nbformat": 4,
 "nbformat_minor": 2
}
