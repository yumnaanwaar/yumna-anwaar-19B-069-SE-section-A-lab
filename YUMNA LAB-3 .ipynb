{
 "cells": [
  {
   "cell_type": "code",
   "execution_count": 1,
   "metadata": {},
   "outputs": [
    {
     "name": "stdout",
     "output_type": "stream",
     "text": [
      "Enter angular velocity: 10\n",
      "Enter Radius: 2\n",
      "linear velocity is 20.0\n",
      "linear velocity is: m/s\n",
      "angular velocity is: m/s\n",
      "radius is: m\n"
     ]
    }
   ],
   "source": [
    "# 1\n",
    "angular_speed=float (input(\"Enter angular velocity: \"))\n",
    "Radius=float(input(\"Enter Radius: \"))\n",
    "velocity= Radius * angular_speed\n",
    "print (\"linear velocity is\",velocity)\n",
    "print (\"linear velocity is:\",\"m/s\")\n",
    "print (\"angular velocity is:\",\"m/s\")\n",
    "print (\"radius is:\",\"m\")\n"
   ]
  },
  {
   "cell_type": "code",
   "execution_count": 8,
   "metadata": {},
   "outputs": [
    {
     "name": "stdout",
     "output_type": "stream",
     "text": [
      "Enter Radius: 5\n",
      "Enter Revolution per minute: 5000\n",
      "linear velocity is : 2617.993877991494 m/s\n",
      "revolution is: rev/min\n"
     ]
    }
   ],
   "source": [
    "#2\n",
    "from math import pi\n",
    "r=float (input(\"Enter Radius: \"))\n",
    "rpm=int(input(\"Enter Revolution per minute: \"))\n",
    "x=rpm/60\n",
    "w=x*2*pi\n",
    "v=r*w\n",
    "print(\"linear velocity is :\",v,\"m/s\")\n",
    "print (\"revolution is:\",\"rev/min\")"
   ]
  },
  {
   "cell_type": "code",
   "execution_count": 9,
   "metadata": {},
   "outputs": [
    {
     "name": "stdout",
     "output_type": "stream",
     "text": [
      "Enter Velocity:10\n",
      "Enter Radius 30\n",
      "0.3 m\n",
      "angular velocity is  33.333333333333336 rad/s\n",
      "velocity is: 2617.993877991494 m/s\n",
      "radius is: m\n"
     ]
    }
   ],
   "source": [
    "#3\n",
    "velocity = float (input(\"Enter Velocity:\"))\n",
    "Radius = float (input(\"Enter Radius \"))\n",
    "R_in_meter = Radius/100\n",
    "print (R_in_meter,\"m\")\n",
    "angular_velocity = velocity/R_in_meter\n",
    "print (\"angular velocity is \",angular_velocity,\"rad/s\")\n",
    "print (\"velocity is:\",v,\"m/s\")\n",
    "print (\"radius is:\",\"m\")\n"
   ]
  },
  {
   "cell_type": "code",
   "execution_count": 10,
   "metadata": {},
   "outputs": [
    {
     "name": "stdout",
     "output_type": "stream",
     "text": [
      "Enter Velocity: 10\n",
      "Enter Diameter: 50\n",
      "Angular speed is:  40.0 rad/s\n",
      "velocity is: 10.0 m/s\n",
      "diameter is: m\n"
     ]
    }
   ],
   "source": [
    "#4\n",
    "v = float(input(\"Enter Velocity: \"))\n",
    "d = float(input(\"Enter Diameter: \"))\n",
    "r = d/2\n",
    "r_in_meter=r/100\n",
    "w = v/r_in_meter\n",
    "print(\"Angular speed is: \",w,\"rad/s\")\n",
    "print (\"velocity is:\",v,\"m/s\")\n",
    "print (\"diameter is:\",\"m\")"
   ]
  },
  {
   "cell_type": "code",
   "execution_count": null,
   "metadata": {},
   "outputs": [],
   "source": [
    "#5\n",
    "from math import pi\n",
    "r=float(input(\"Enter Radius in cm: \"))\n",
    "angular_speed=float (input(\"Enter angular speed in rpm: \"))\n",
    "t=float(input(\"Enter Time in sec: \"))\n",
    "r_in_meter=r/100\n",
    "x = angular_speed/60\n",
    "w = x*2*pi\n",
    "v = r_in_meter*w\n",
    "distance=v*t\n",
    "print (\"Distance is: \",distance,\"m\")\n",
    "print (\"angular speed is:\",\"rad/s\")\n",
    "print (\"time is:\",\"sec\")\n",
    "print (\"radius is:\",\"cm\")"
   ]
  },
  {
   "cell_type": "code",
   "execution_count": 12,
   "metadata": {},
   "outputs": [
    {
     "name": "stdout",
     "output_type": "stream",
     "text": [
      "Enter Velocity miles per hour: 50\n",
      "Enter Acceleration in miles per hour^2: 10\n",
      "Enter Time in Hours: 2\n",
      "distance is 225308.16 meters\n",
      "velocity is: miles/hr\n",
      "acceleration is: miles/hr\n",
      "time is: sec\n"
     ]
    }
   ],
   "source": [
    "#6\n",
    "u = float(input(\"Enter Velocity miles per hour: \"))\n",
    "a = float(input(\"Enter Acceleration in miles per hour^2: \"))\n",
    "t=float(input(\"Enter Time in Hours: \"))\n",
    "v=u+(a*t)\n",
    "d=v*t\n",
    "d_in_meter=d*1609.344\n",
    "print(\"distance is\",d_in_meter,\"meters\")\n",
    "print (\"velocity is:\",\"miles/hr\")\n",
    "print (\"acceleration is:\",\"miles/hr\")\n",
    "print (\"time is:\",\"sec\")\n"
   ]
  },
  {
   "cell_type": "code",
   "execution_count": 2,
   "metadata": {},
   "outputs": [
    {
     "name": "stdout",
     "output_type": "stream",
     "text": [
      "Enter height in feet: 100\n",
      "The velocity with which stone hit the ground is:  44.16587833961073 ft/sec\n",
      "height is: ft\n"
     ]
    }
   ],
   "source": [
    "#7\n",
    "from math import sqrt\n",
    "u=0\n",
    "a=32\n",
    "h=float(input(\"Enter height in feet: \"))\n",
    "h_in_feet=h/3.281\n",
    "v=sqrt((2*a*h_in_feet)+u**2)\n",
    "print(\"The velocity with which stone hit the ground is: \",v,\"ft/sec\")\n",
    "print (\"height is:\",\"ft\")"
   ]
  }
 ],
 "metadata": {
  "kernelspec": {
   "display_name": "Python 3",
   "language": "python",
   "name": "python3"
  },
  "language_info": {
   "codemirror_mode": {
    "name": "ipython",
    "version": 3
   },
   "file_extension": ".py",
   "mimetype": "text/x-python",
   "name": "python",
   "nbconvert_exporter": "python",
   "pygments_lexer": "ipython3",
   "version": "3.7.4"
  }
 },
 "nbformat": 4,
 "nbformat_minor": 2
}
