{
 "cells": [
  {
   "cell_type": "code",
   "execution_count": 5,
   "metadata": {},
   "outputs": [
    {
     "name": "stdout",
     "output_type": "stream",
     "text": [
      "Enter the value of a: 1\n",
      "Enter the value of b: 2\n",
      "Enter the value of c: 1\n",
      "x1=  -1.0 x2=  -1.0\n"
     ]
    }
   ],
   "source": [
    "#program 1\n",
    "from math import sqrt\n",
    "import cmath\n",
    "a = eval(input(\"Enter the value of a: \"))\n",
    "b = eval(input(\"Enter the value of b: \"))\n",
    "c = eval(input(\"Enter the value of c: \"))\n",
    "if a == 0:\n",
    "    print (\"Denominator is zero,Hence tha Equation can't be solved\")\n",
    "elif (b < a and b < c) or (b > a and b < c):\n",
    "    d = (b**2) - (4*a*c)\n",
    "    x1 = (-b-cmath.sqrt(d))/(2*a)\n",
    "    x2 = (-b+cmath.sqrt(d))/(2*a)\n",
    "    print(\"x1= \",x1,\"x2= \",x2)\n",
    "else:\n",
    "    e = (b**2)-(4*a*c)\n",
    "    x1 = (-b-sqrt(e))/(2*a)\n",
    "    x2 = (-b+sqrt(e))/(2*a)\n",
    "    print(\"x1= \",x1,\"x2= \",x2)"
   ]
  },
  {
   "cell_type": "code",
   "execution_count": 6,
   "metadata": {},
   "outputs": [
    {
     "name": "stdout",
     "output_type": "stream",
     "text": [
      "Enter first term: 3\n",
      "Enter common difference: 6\n",
      "do you want to find the nth term yes or no: yes\n",
      "Enter nth terms: 35\n",
      "207\n",
      "do you want to find another nth terms yes or no: yes\n",
      "Enter nth terms: 45\n",
      "267\n",
      "do you want to find another nth terms yes or no: ys\n"
     ]
    },
    {
     "data": {
      "text/plain": [
       "('the answer of ast term you asked is ', 267)"
      ]
     },
     "execution_count": 6,
     "metadata": {},
     "output_type": "execute_result"
    }
   ],
   "source": [
    "#program 2\n",
    "def AP (a,d):\n",
    "    x= input(\"do you want to find the nth term yes or no: \")\n",
    "    while (x == \"yes\" ):\n",
    "        n=int(input(\"Enter nth terms: \"))\n",
    "        Tn = a+((n-1)*d)\n",
    "        print(Tn)\n",
    "        x = input(\"do you want to find another nth terms yes or no: \")\n",
    "    return \"the answer of ast term you asked is \",Tn\n",
    "a=eval(input(\"Enter first term: \"))\n",
    "d=eval(input(\"Enter common difference: \"))\n",
    "AP(a,d)"
   ]
  },
  {
   "cell_type": "code",
   "execution_count": 2,
   "metadata": {},
   "outputs": [
    {
     "name": "stdout",
     "output_type": "stream",
     "text": [
      "Enter the text you want in palindrome: civic\n",
      "civic\n",
      "civic\n",
      "Yes your string is palindrome\n"
     ]
    }
   ],
   "source": [
    "#program 3\n",
    "text = input(\"Enter the text you want in palindrome: \")\n",
    "x = text.casefold()\n",
    "print(x)\n",
    "y = len(text)\n",
    "z = text[y::-1]\n",
    "print(z)\n",
    "if x == z:\n",
    "    print(\"Yes your string is palindrome\")\n",
    "else:\n",
    "    print(\"Sorry! your sting is not palindrome\")"
   ]
  },
  {
   "cell_type": "code",
   "execution_count": 1,
   "metadata": {},
   "outputs": [
    {
     "name": "stdout",
     "output_type": "stream",
     "text": [
      "Input the number of rows: 5\n",
      "Input the number of columns: 5\n",
      "Enter the entries row wise: \n",
      "1\n",
      "2\n",
      "3\n",
      "4\n",
      "5\n",
      "2\n",
      "4\n",
      "6\n",
      "8\n",
      "10\n",
      "3\n",
      "6\n",
      "9\n",
      "12\n",
      "15\n",
      "4\n",
      "8\n",
      "12\n",
      "16\n",
      "20\n",
      "5\n",
      "10\n",
      "15\n",
      "20\n",
      "25\n",
      "1 2 3 4 5 \n",
      "2 4 6 8 10 \n",
      "3 6 9 12 15 \n",
      "4 8 12 16 20 \n",
      "5 10 15 20 25 \n"
     ]
    }
   ],
   "source": [
    "#program 5\n",
    "row_num = int(input(\"Input the number of rows: \"))\n",
    "col_num = int(input(\"Input the number of columns: \"))\n",
    "\n",
    "matrix = []\n",
    "print(\"Enter the entries row wise: \")\n",
    "for row in range(row_num):\n",
    "    a = []\n",
    "    for col in range(col_num):\n",
    "        a.append(int(input()))\n",
    "    matrix.append(a)\n",
    "\n",
    "for row in range(row_num):\n",
    "    for col in range(col_num):\n",
    "        print(matrix[row][col],end = \" \")\n",
    "    print()\n",
    "        "
   ]
  },
  {
   "cell_type": "code",
   "execution_count": 3,
   "metadata": {},
   "outputs": [
    {
     "name": "stdout",
     "output_type": "stream",
     "text": [
      "[5, 7, 0]\n",
      "[13, 15, 0]\n"
     ]
    }
   ],
   "source": [
    "#program 6\n",
    "X = [[1,2,3],[7,8,9]]\n",
    "\n",
    "Y = [[4,5,6],[6,7,8]]\n",
    "\n",
    "result = [[0,0,0],[0,0,0]]\n",
    "\n",
    "for i in range(len(X)):\n",
    "    for j in range(len(Y)):\n",
    "        result[i][j] +=  X[i][j] + Y[i][j]\n",
    "for r in result:\n",
    "    print(r)"
   ]
  },
  {
   "cell_type": "code",
   "execution_count": 1,
   "metadata": {},
   "outputs": [
    {
     "name": "stdout",
     "output_type": "stream",
     "text": [
      "[121, 126, 113]\n",
      "[119, 124, 117]\n",
      "[119, 126, 115]\n"
     ]
    }
   ],
   "source": [
    "#program 7\n",
    "x=[[4,5,6],[6,5,4],[5,4,6]]\n",
    "y=[[7,8,9],[9,8,7],[8,9,7]]\n",
    "result=[[0,0,0],[0,0,0],[0,0,0]]\n",
    "for i in range(len(x)):\n",
    "    for j in range(len(y)):\n",
    "        for k in range(len(y)):\n",
    "            result[i][j] += x[i][k]*y[k][j]\n",
    "for r in result:\n",
    "    print(r)"
   ]
  },
  {
   "cell_type": "code",
   "execution_count": null,
   "metadata": {},
   "outputs": [],
   "source": []
  }
 ],
 "metadata": {
  "kernelspec": {
   "display_name": "Python 3",
   "language": "python",
   "name": "python3"
  },
  "language_info": {
   "codemirror_mode": {
    "name": "ipython",
    "version": 3
   },
   "file_extension": ".py",
   "mimetype": "text/x-python",
   "name": "python",
   "nbconvert_exporter": "python",
   "pygments_lexer": "ipython3",
   "version": "3.7.4"
  }
 },
 "nbformat": 4,
 "nbformat_minor": 2
}
