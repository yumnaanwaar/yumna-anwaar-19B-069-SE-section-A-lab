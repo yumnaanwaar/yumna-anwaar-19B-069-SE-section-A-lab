{
 "cells": [
  {
   "cell_type": "markdown",
   "metadata": {},
   "source": [
    "# Yumna Anwaar 19B-069-SE chapter - 3 "
   ]
  },
  {
   "cell_type": "code",
   "execution_count": 1,
   "metadata": {},
   "outputs": [
    {
     "name": "stdout",
     "output_type": "stream",
     "text": [
      "Enter twemperature in degree fahrenheit: 50\n",
      "10.0\n"
     ]
    }
   ],
   "source": [
    "# ex 3.1\n",
    "fahrenheit = eval(input(\"Enter twemperature in degree fahrenheit: \"))\n",
    "celsius = (5/9) * (fahrenheit - 32)\n",
    "print(celsius)"
   ]
  },
  {
   "cell_type": "code",
   "execution_count": 4,
   "metadata": {},
   "outputs": [
    {
     "name": "stdout",
     "output_type": "stream",
     "text": [
      "Enter your age: 63\n",
      "you can get your pension benefits\n"
     ]
    }
   ],
   "source": [
    "# ex 3.2\n",
    "#part a\n",
    "age = int(input(\"Enter your age: \"))\n",
    "if age > 62:\n",
    "    print(\"you can get your pension benefits\")\n",
    "    "
   ]
  },
  {
   "cell_type": "code",
   "execution_count": 6,
   "metadata": {},
   "outputs": [
    {
     "name": "stdout",
     "output_type": "stream",
     "text": [
      "Enter the name of baseball player: Aaraon\n",
      "one of the top 5 baseball player ever!\n"
     ]
    }
   ],
   "source": [
    "# part b\n",
    "list = ['Musial', 'Aaraon', 'Williams', 'Gehrig', 'Ruth']\n",
    "name = str(input(\"Enter the name of baseball player: \"))\n",
    "if name in list:\n",
    "    print(\"one of the top 5 baseball player ever!\")"
   ]
  },
  {
   "cell_type": "code",
   "execution_count": 8,
   "metadata": {},
   "outputs": [
    {
     "name": "stdout",
     "output_type": "stream",
     "text": [
      "Enter the hits: 12\n",
      "Enter the shield: 0\n",
      "you are dead\n"
     ]
    }
   ],
   "source": [
    "# part c\n",
    "hit = int(input(\"Enter the hits: \"))\n",
    "shield = int(input(\"Enter the shield: \"))\n",
    "if hit > 10 and shield == 0:\n",
    "    print(\"you are dead\")"
   ]
  },
  {
   "cell_type": "code",
   "execution_count": 11,
   "metadata": {},
   "outputs": [
    {
     "name": "stdout",
     "output_type": "stream",
     "text": [
      "Enter the direction: east\n",
      "I can Escape\n"
     ]
    }
   ],
   "source": [
    "# part d\n",
    "direction = str(input(\"Enter the direction: \"))\n",
    "x = direction.casefold()\n",
    "if (x == \"east\") or (x == \"west\") or (x == \"north\") or ( x == \"south\"):\n",
    "    print(\"I can Escape\")"
   ]
  },
  {
   "cell_type": "code",
   "execution_count": 12,
   "metadata": {},
   "outputs": [
    {
     "name": "stdout",
     "output_type": "stream",
     "text": [
      "Enter the year: 2020\n",
      "Could be a leap year\n"
     ]
    }
   ],
   "source": [
    "# ex 3.3\n",
    "# exercise 3.3\n",
    "# part a\n",
    "year = int(input(\"Enter the year: \"))\n",
    "x = year % 4\n",
    "#print(x)\n",
    "if x == 0:\n",
    "    print(\"Could be a leap year\")\n",
    "else:\n",
    "    print(\"Definitely not a leap year\")"
   ]
  },
  {
   "cell_type": "code",
   "execution_count": 13,
   "metadata": {},
   "outputs": [
    {
     "name": "stdout",
     "output_type": "stream",
     "text": [
      "Enter your ticket number: 127\n",
      "You won!\n"
     ]
    }
   ],
   "source": [
    "# part b\n",
    "list_lottery = [123, 124, 125, 126, 127, 128, 129]\n",
    "list_ticket = int(input(\"Enter your ticket number: \"))\n",
    "if list_ticket in list_lottery:\n",
    "    print(\"You won!\")\n",
    "else:\n",
    "    print(\"Better luck next time\")"
   ]
  },
  {
   "cell_type": "code",
   "execution_count": 14,
   "metadata": {},
   "outputs": [
    {
     "name": "stdout",
     "output_type": "stream",
     "text": [
      "Enter your login id: hani\n",
      "you are in\n",
      "done\n"
     ]
    }
   ],
   "source": [
    "# exercise 3.4\n",
    "name_list = [\"joe\", \"sue\", \"hani\", \"sophie\"]\n",
    "login_id = str(input(\"Enter your login id: \"))\n",
    "if login_id in name_list:\n",
    "    print(\"you are in\")\n",
    "else:\n",
    "    print(\"User unknown\")\n",
    "print(\"done\")"
   ]
  },
  {
   "cell_type": "code",
   "execution_count": 15,
   "metadata": {},
   "outputs": [
    {
     "name": "stdout",
     "output_type": "stream",
     "text": [
      "stop\n",
      "post\n"
     ]
    }
   ],
   "source": [
    "# exercise 3.5\n",
    "wordlist = [\"stop\", \"desktop\", \"top\", \"post\"]\n",
    "for word in wordlist:\n",
    "    if len(word) == 4:\n",
    "        print(word)"
   ]
  },
  {
   "cell_type": "code",
   "execution_count": 16,
   "metadata": {},
   "outputs": [
    {
     "name": "stdout",
     "output_type": "stream",
     "text": [
      "0\n",
      "1\n",
      "2\n",
      "3\n",
      "4\n",
      "5\n",
      "6\n",
      "7\n",
      "8\n",
      "9\n"
     ]
    }
   ],
   "source": [
    "# exercise 3.6\n",
    "# part a\n",
    "for i in range(0, 10):\n",
    "    print(i)"
   ]
  },
  {
   "cell_type": "code",
   "execution_count": 17,
   "metadata": {},
   "outputs": [
    {
     "name": "stdout",
     "output_type": "stream",
     "text": [
      "0\n",
      "1\n"
     ]
    }
   ],
   "source": [
    "# part b\n",
    "for i in range(2):\n",
    "    print(i)"
   ]
  },
  {
   "cell_type": "code",
   "execution_count": 18,
   "metadata": {},
   "outputs": [
    {
     "name": "stdout",
     "output_type": "stream",
     "text": [
      "3\n",
      "4\n",
      "5\n",
      "6\n",
      "7\n",
      "8\n",
      "9\n",
      "10\n",
      "11\n",
      "12\n"
     ]
    }
   ],
   "source": [
    "# exercise 3.7\n",
    "# part a\n",
    "for i in range(3, 13):\n",
    "    print(i)"
   ]
  },
  {
   "cell_type": "code",
   "execution_count": 19,
   "metadata": {},
   "outputs": [
    {
     "name": "stdout",
     "output_type": "stream",
     "text": [
      "0\n",
      "2\n",
      "4\n",
      "6\n",
      "8\n"
     ]
    }
   ],
   "source": [
    "# part b\n",
    "for i in range(0, 9, 2):\n",
    "    print(i)"
   ]
  },
  {
   "cell_type": "code",
   "execution_count": 20,
   "metadata": {},
   "outputs": [
    {
     "name": "stdout",
     "output_type": "stream",
     "text": [
      "0\n",
      "3\n",
      "6\n",
      "9\n",
      "12\n",
      "15\n",
      "18\n",
      "21\n"
     ]
    }
   ],
   "source": [
    "# part c\n",
    "for i in range(0, 24, 3):\n",
    "    print(i)"
   ]
  },
  {
   "cell_type": "code",
   "execution_count": 21,
   "metadata": {},
   "outputs": [
    {
     "name": "stdout",
     "output_type": "stream",
     "text": [
      "3\n",
      "8\n"
     ]
    }
   ],
   "source": [
    "# part d\n",
    "for i in range(3, 12, 5):\n",
    "    print(i)"
   ]
  },
  {
   "cell_type": "code",
   "execution_count": 22,
   "metadata": {},
   "outputs": [
    {
     "data": {
      "text/plain": [
       "12.566370614359172"
      ]
     },
     "execution_count": 22,
     "metadata": {},
     "output_type": "execute_result"
    }
   ],
   "source": [
    "# exercise 3.8\n",
    "from math import pi\n",
    "def perimeter(r):\n",
    "    result = 2 * pi * r\n",
    "    return result\n",
    "perimeter(2)"
   ]
  },
  {
   "cell_type": "code",
   "execution_count": 23,
   "metadata": {},
   "outputs": [
    {
     "data": {
      "text/plain": [
       "5.5"
      ]
     },
     "execution_count": 23,
     "metadata": {},
     "output_type": "execute_result"
    }
   ],
   "source": [
    "# exercise 3.9\n",
    "def average(num1, num2):\n",
    "    result = (num1 + num2) / 2\n",
    "    return result\n",
    "average(5, 6)"
   ]
  },
  {
   "cell_type": "code",
   "execution_count": 32,
   "metadata": {},
   "outputs": [
    {
     "name": "stdout",
     "output_type": "stream",
     "text": [
      "Enter text: crypt\n"
     ]
    },
    {
     "data": {
      "text/plain": [
       "True"
      ]
     },
     "execution_count": 32,
     "metadata": {},
     "output_type": "execute_result"
    }
   ],
   "source": [
    "# ex 3.10\n",
    "def noVowel(text):\n",
    "    for i in text:\n",
    "        if i in \"aeiouAEIOU\":\n",
    "            return False\n",
    "    return True\n",
    "text = str(input(\"Enter text: \"))\n",
    "noVowel(text)"
   ]
  },
  {
   "cell_type": "code",
   "execution_count": 39,
   "metadata": {},
   "outputs": [
    {
     "data": {
      "text/plain": [
       "True"
      ]
     },
     "execution_count": 39,
     "metadata": {},
     "output_type": "execute_result"
    }
   ],
   "source": [
    "# ex 3.11\n",
    "# part a\n",
    "list = [8, 0, -2, 4, -6, 10]\n",
    "def allEven(list):\n",
    "    for i in list:\n",
    "        if (i % 2 == 0):\n",
    "            return True\n",
    "    return False\n",
    "allEven(list)"
   ]
  },
  {
   "cell_type": "code",
   "execution_count": 37,
   "metadata": {},
   "outputs": [
    {
     "data": {
      "text/plain": [
       "False"
      ]
     },
     "execution_count": 37,
     "metadata": {},
     "output_type": "execute_result"
    }
   ],
   "source": [
    "# part 2\n",
    "list = [8, 0, -1, 4, -6, 10]\n",
    "def allEven(list):\n",
    "    for i in list:\n",
    "        if (i % 2 == 0):\n",
    "            return False\n",
    "    return True\n",
    "allEven(list)"
   ]
  },
  {
   "cell_type": "code",
   "execution_count": 40,
   "metadata": {},
   "outputs": [
    {
     "name": "stdout",
     "output_type": "stream",
     "text": [
      "-1\n",
      "-3\n",
      "-9\n"
     ]
    }
   ],
   "source": [
    "# ex 3.12\n",
    "list = [4, 0, -1, -3, 6, -9]\n",
    "def negatives(list):\n",
    "    for i in list:\n",
    "        if i < 0:\n",
    "            print(i)\n",
    "    return\n",
    "negatives(list)\n",
    "    "
   ]
  },
  {
   "cell_type": "code",
   "execution_count": 43,
   "metadata": {},
   "outputs": [
    {
     "name": "stdout",
     "output_type": "stream",
     "text": [
      "Help on function average in module __main__:\n",
      "\n",
      "average(num1, num2)\n",
      "    # ex 3.13\n",
      "\n"
     ]
    },
    {
     "data": {
      "text/plain": [
       "5.5"
      ]
     },
     "execution_count": 43,
     "metadata": {},
     "output_type": "execute_result"
    }
   ],
   "source": [
    "# ex 3.13\n",
    "#part a\n",
    "def average(num1, num2):\n",
    "    result = (num1 + num2) / 2\n",
    "    return result\n",
    "help(average)\n",
    "average(5, 6)\n"
   ]
  },
  {
   "cell_type": "code",
   "execution_count": 44,
   "metadata": {},
   "outputs": [
    {
     "name": "stdout",
     "output_type": "stream",
     "text": [
      "Help on function negatives in module __main__:\n",
      "\n",
      "negatives(list)\n",
      "\n",
      "-1\n",
      "-3\n",
      "-9\n"
     ]
    }
   ],
   "source": [
    "# part b\n",
    "list = [4, 0, -1, -3, 6, -9]\n",
    "def negatives(list):\n",
    "    for i in list:\n",
    "        if i < 0:\n",
    "            print(i)\n",
    "    return\n",
    "help(negatives)\n",
    "negatives(list)"
   ]
  },
  {
   "cell_type": "code",
   "execution_count": 49,
   "metadata": {},
   "outputs": [
    {
     "name": "stdout",
     "output_type": "stream",
     "text": [
      "[5, 6, 7]\n",
      "[5, 6, 7]\n",
      "3\n"
     ]
    }
   ],
   "source": [
    "# ex 3.14\n",
    "a = [5, 6, 7]\n",
    "print(a)\n",
    "b = a\n",
    "print(b)\n",
    "a = 3\n",
    "print(a)"
   ]
  },
  {
   "cell_type": "code",
   "execution_count": 54,
   "metadata": {},
   "outputs": [
    {
     "name": "stdout",
     "output_type": "stream",
     "text": [
      "['Sarah', 'Eleanor', 'Clare', 'Ava']\n"
     ]
    }
   ],
   "source": [
    "# ex 3.15\n",
    "team = [\"Ava\", \"Eleanor\", \"Clare\", \"Sarah\"]\n",
    "temp = team[0]\n",
    "team[0] = team[-1]\n",
    "team[-1] = temp\n",
    "print(team)\n"
   ]
  },
  {
   "cell_type": "code",
   "execution_count": 55,
   "metadata": {},
   "outputs": [
    {
     "name": "stdout",
     "output_type": "stream",
     "text": [
      "['apples', 'sugar', 'butter', 'flour']\n"
     ]
    }
   ],
   "source": [
    "# Ex 3.16\n",
    "list = [\"flour\", \"sugar\", \"butter\", \"apples\"]\n",
    "def swapFL():\n",
    "    temp = list[0]\n",
    "    list[0] = list[-1]\n",
    "    list[-1] = temp\n",
    "    print(list)\n",
    "    return\n",
    "swapFL()    "
   ]
  },
  {
   "cell_type": "code",
   "execution_count": 58,
   "metadata": {},
   "outputs": [
    {
     "name": "stdout",
     "output_type": "stream",
     "text": [
      "7\n"
     ]
    },
    {
     "ename": "NameError",
     "evalue": "name 'hello' is not defined",
     "output_type": "error",
     "traceback": [
      "\u001b[1;31m---------------------------------------------------------------------------\u001b[0m",
      "\u001b[1;31mNameError\u001b[0m                                 Traceback (most recent call last)",
      "\u001b[1;32m<ipython-input-58-195c7583ce0a>\u001b[0m in \u001b[0;36m<module>\u001b[1;34m\u001b[0m\n\u001b[0;32m      5\u001b[0m \u001b[1;33m\u001b[0m\u001b[0m\n\u001b[0;32m      6\u001b[0m \u001b[1;31m# part b\u001b[0m\u001b[1;33m\u001b[0m\u001b[1;33m\u001b[0m\u001b[1;33m\u001b[0m\u001b[0m\n\u001b[1;32m----> 7\u001b[1;33m \u001b[0my\u001b[0m \u001b[1;33m=\u001b[0m \u001b[0meval\u001b[0m\u001b[1;33m(\u001b[0m\u001b[1;34m'hello'\u001b[0m\u001b[1;33m)\u001b[0m\u001b[1;33m\u001b[0m\u001b[1;33m\u001b[0m\u001b[0m\n\u001b[0m\u001b[0;32m      8\u001b[0m \u001b[0mprint\u001b[0m\u001b[1;33m(\u001b[0m\u001b[0my\u001b[0m\u001b[1;33m)\u001b[0m\u001b[1;33m\u001b[0m\u001b[1;33m\u001b[0m\u001b[0m\n",
      "\u001b[1;32m<string>\u001b[0m in \u001b[0;36m<module>\u001b[1;34m\u001b[0m\n",
      "\u001b[1;31mNameError\u001b[0m: name 'hello' is not defined"
     ]
    }
   ],
   "source": [
    "# Ex 3.17\n",
    "#part a\n",
    "x = eval('2 * 3 + 1')\n",
    "print(x)\n",
    "\n",
    "# part b\n",
    "y = eval('hello')\n",
    "print(y)\n",
    "# eval functionn works only with integer and float data type"
   ]
  },
  {
   "cell_type": "code",
   "execution_count": 61,
   "metadata": {},
   "outputs": [
    {
     "name": "stdout",
     "output_type": "stream",
     "text": [
      "hello world!\n",
      "2\n"
     ]
    },
    {
     "ename": "SyntaxError",
     "evalue": "invalid syntax (<string>, line 1)",
     "output_type": "error",
     "traceback": [
      "Traceback \u001b[1;36m(most recent call last)\u001b[0m:\n",
      "  File \u001b[0;32m\"H:\\software\\anaconda\\lib\\site-packages\\IPython\\core\\interactiveshell.py\"\u001b[0m, line \u001b[0;32m3325\u001b[0m, in \u001b[0;35mrun_code\u001b[0m\n    exec(code_obj, self.user_global_ns, self.user_ns)\n",
      "\u001b[1;36m  File \u001b[1;32m\"<ipython-input-61-e9b239cbe824>\"\u001b[1;36m, line \u001b[1;32m10\u001b[1;36m, in \u001b[1;35m<module>\u001b[1;36m\u001b[0m\n\u001b[1;33m    b = eval('x = 5')\u001b[0m\n",
      "\u001b[1;36m  File \u001b[1;32m\"<string>\"\u001b[1;36m, line \u001b[1;32m1\u001b[0m\n\u001b[1;33m    x = 5\u001b[0m\n\u001b[1;37m      ^\u001b[0m\n\u001b[1;31mSyntaxError\u001b[0m\u001b[1;31m:\u001b[0m invalid syntax\n"
     ]
    }
   ],
   "source": [
    "# part c\n",
    "z = eval(\"'hello' + ' ' + 'world!'\")\n",
    "print(z)\n",
    "\n",
    "# part d\n",
    "a = eval(\"'ASCII'.count('I')\")\n",
    "print(a)\n",
    "\n",
    "# part e\n",
    "b = eval('x = 5')\n",
    "print(b)\n",
    "# comparision operator is == not ="
   ]
  },
  {
   "cell_type": "code",
   "execution_count": 62,
   "metadata": {},
   "outputs": [
    {
     "name": "stdout",
     "output_type": "stream",
     "text": [
      "OK\n",
      "OK\n"
     ]
    }
   ],
   "source": [
    "# Ex 3.18\n",
    "a = 3\n",
    "b = 4\n",
    "c = 5\n",
    "# part a\n",
    "if a < b:\n",
    "    print(\"OK\")\n",
    "\n",
    "# part b\n",
    "if c < b:\n",
    "    print(\"OK\")\n",
    "\n",
    "# part c\n",
    "if (a + b) == c:\n",
    "    print(\"OK\")\n",
    "\n",
    "# part d\n",
    "if ((a**2) + (b**2)) == (c**2):\n",
    "    print(\"OK\")"
   ]
  },
  {
   "cell_type": "code",
   "execution_count": 63,
   "metadata": {},
   "outputs": [
    {
     "name": "stdout",
     "output_type": "stream",
     "text": [
      "NOT OK\n",
      "NOT OK\n"
     ]
    }
   ],
   "source": [
    "# Ex 3.19\n",
    "a = 3\n",
    "b = 4\n",
    "c = 5\n",
    "# part a\n",
    "if a < b:\n",
    "    print(\"NOT OK\")\n",
    "\n",
    "# part b\n",
    "if c < b:\n",
    "    print(\"NOT OK\")\n",
    "\n",
    "# part c\n",
    "if (a + b) == c:\n",
    "    print(\"NOT OK\")\n",
    "\n",
    "# part d\n",
    "if ((a**2) + (b**2)) == (c**2):\n",
    "    print(\"NOT OK\")"
   ]
  },
  {
   "cell_type": "code",
   "execution_count": 66,
   "metadata": {},
   "outputs": [
    {
     "name": "stdout",
     "output_type": "stream",
     "text": [
      "Jan\n",
      "Feb\n",
      "Mar\n"
     ]
    }
   ],
   "source": [
    "# Ex 3.20\n",
    "lst = [\"January\", \"February\", \"March\"]\n",
    "for i in lst:\n",
    "    print(i[:3])"
   ]
  },
  {
   "cell_type": "code",
   "execution_count": 67,
   "metadata": {},
   "outputs": [
    {
     "name": "stdout",
     "output_type": "stream",
     "text": [
      "2\n",
      "4\n",
      "6\n",
      "8\n"
     ]
    }
   ],
   "source": [
    "# Ex 3.21\n",
    "lst = [2, 3, 4, 5, 6, 7, 8, 9]\n",
    "for i in lst:\n",
    "    if (i % 2 == 0):\n",
    "        print(i)"
   ]
  },
  {
   "cell_type": "code",
   "execution_count": 73,
   "metadata": {},
   "outputs": [
    {
     "name": "stdout",
     "output_type": "stream",
     "text": [
      "4\n",
      "8\n"
     ]
    }
   ],
   "source": [
    "# Ex 3.22\n",
    "lst = [2, 3, 4, 5, 6, 7, 8, 9]\n",
    "for i in lst:\n",
    "    if ((i**2) % 8 == 0):\n",
    "        print(i)"
   ]
  },
  {
   "cell_type": "code",
   "execution_count": 89,
   "metadata": {},
   "outputs": [
    {
     "name": "stdout",
     "output_type": "stream",
     "text": [
      "0  1  "
     ]
    }
   ],
   "source": [
    "# Ex 3.23\n",
    "# part a\n",
    "for i in range(0, 2):\n",
    "    print(i, end = \"  \" )"
   ]
  },
  {
   "cell_type": "code",
   "execution_count": 88,
   "metadata": {},
   "outputs": [
    {
     "name": "stdout",
     "output_type": "stream",
     "text": [
      "0  "
     ]
    }
   ],
   "source": [
    "# part b\n",
    "for i in range(0,1):\n",
    "    print(i, end = \"  \" )"
   ]
  },
  {
   "cell_type": "code",
   "execution_count": 87,
   "metadata": {},
   "outputs": [
    {
     "name": "stdout",
     "output_type": "stream",
     "text": [
      "3  4  5  6  "
     ]
    }
   ],
   "source": [
    "# part c\n",
    "for i in range(3, 7):\n",
    "    print(i, end = \"  \" )"
   ]
  },
  {
   "cell_type": "code",
   "execution_count": 86,
   "metadata": {},
   "outputs": [
    {
     "name": "stdout",
     "output_type": "stream",
     "text": [
      "1  "
     ]
    }
   ],
   "source": [
    "# part d\n",
    "for i in range(1,2):\n",
    "    print(i, end = \"  \" )"
   ]
  },
  {
   "cell_type": "code",
   "execution_count": 85,
   "metadata": {},
   "outputs": [
    {
     "name": "stdout",
     "output_type": "stream",
     "text": [
      "0  3  "
     ]
    }
   ],
   "source": [
    "# part e\n",
    "for i in range(0, 4, 3):\n",
    "    print(i, end = \"  \" )"
   ]
  },
  {
   "cell_type": "code",
   "execution_count": 84,
   "metadata": {},
   "outputs": [
    {
     "name": "stdout",
     "output_type": "stream",
     "text": [
      "5  9  13  17  21  "
     ]
    }
   ],
   "source": [
    "# part f\n",
    "for i in range(5, 22, 4):\n",
    "    print(i, end = \"  \" )"
   ]
  },
  {
   "cell_type": "code",
   "execution_count": 3,
   "metadata": {},
   "outputs": [
    {
     "name": "stdout",
     "output_type": "stream",
     "text": [
      "Enter the number you want to add to list: 6\n",
      "Enter the text to list: cia\n",
      "Enter the text to list: secret\n",
      "Enter the text to list: mi6\n",
      "Enter the text to list: isi\n",
      "Enter the text to list: secret\n",
      "Enter the text to list: mik\n",
      "['cia', 'secret', 'mi6', 'isi', 'secret', 'mik']\n",
      "['cia', 'mi6', 'isi', 'mik']\n"
     ]
    }
   ],
   "source": [
    "# Ex 3.24\n",
    "n = int(input(\"Enter the number you want to add to list: \"))\n",
    "list = []\n",
    "for i in range(0,n):\n",
    "    text = str(input(\"Enter the text to list: \"))\n",
    "    list.append(text)\n",
    "print(list)\n",
    "\n",
    "for a in list:\n",
    "    if a == \"secret\":\n",
    "        list.remove(\"secret\")\n",
    "print(list)"
   ]
  },
  {
   "cell_type": "code",
   "execution_count": 10,
   "metadata": {},
   "outputs": [
    {
     "name": "stdout",
     "output_type": "stream",
     "text": [
      "Enter the number you want to add to list: 5\n",
      "Enter the text to list: Ellie\n",
      "Enter the text to list: Steve\n",
      "Enter the text to list: Sam\n",
      "Enter the text to list: Owen\n",
      "Enter the text to list: Gavin\n",
      "['Ellie', 'Steve', 'Sam', 'Owen', 'Gavin']\n",
      "Ellie\n",
      "Gavin\n"
     ]
    }
   ],
   "source": [
    "# Ex 3.25\n",
    "n = int(input(\"Enter the number you want to add to list: \"))\n",
    "list = []\n",
    "for i in range(0,n):\n",
    "    text = str(input(\"Enter the text to list: \"))\n",
    "    list.append(text)\n",
    "print(list)\n",
    "\n",
    "for i in list:\n",
    "    if i[0] in \"ABCDEFGHIJKLM\":\n",
    "        print(i)"
   ]
  },
  {
   "cell_type": "code",
   "execution_count": 2,
   "metadata": {},
   "outputs": [
    {
     "name": "stdout",
     "output_type": "stream",
     "text": [
      "Enter the number you want to add to list: 4\n",
      "Enter the number to list: 3\n",
      "Enter the number to list: 5\n",
      "Enter the number to list: 7\n",
      "Enter the number to list: 9\n",
      "[3, 5, 7, 9]\n",
      "The first element of the list is:  3 \n",
      "The last Element of the list is:  9\n"
     ]
    }
   ],
   "source": [
    "# Ex 3.26\n",
    "n = int(input(\"Enter the number you want to add to list: \"))\n",
    "list = []\n",
    "for i in range(0,n):\n",
    "    num = int(input(\"Enter the number to list: \"))\n",
    "    list.append(num)\n",
    "print(list)\n",
    "\n",
    "lst = [list[0],list[-1]]\n",
    "print(\"The first element of the list is: \",lst[0], \"\\nThe last Element of the list is: \", lst[1])"
   ]
  },
  {
   "cell_type": "code",
   "execution_count": 12,
   "metadata": {},
   "outputs": [
    {
     "name": "stdout",
     "output_type": "stream",
     "text": [
      "Enter the positive Number: 5\n",
      "0\n",
      "5\n",
      "10\n",
      "15\n"
     ]
    }
   ],
   "source": [
    "# Ex 3.27\n",
    "n = int(input(\"Enter the positive Number: \"))\n",
    "for i in range(0, 4):\n",
    "    result = n * i\n",
    "    print(result)"
   ]
  },
  {
   "cell_type": "code",
   "execution_count": 16,
   "metadata": {},
   "outputs": [
    {
     "name": "stdout",
     "output_type": "stream",
     "text": [
      "Enter the positive Number: 3\n",
      "0\n",
      "1\n",
      "4\n"
     ]
    }
   ],
   "source": [
    "# Ex 3.28\n",
    "n = int(input(\"Enter the positive Number: \"))\n",
    "for i in range(0, n):\n",
    "    result = i ** 2\n",
    "    print(result)"
   ]
  },
  {
   "cell_type": "code",
   "execution_count": 6,
   "metadata": {},
   "outputs": [
    {
     "name": "stdout",
     "output_type": "stream",
     "text": [
      "Enter the positive Number: 49\n",
      "1\n",
      "7\n",
      "49\n"
     ]
    }
   ],
   "source": [
    "# Ex 3.29\n",
    "n = int(input(\"Enter the positive Number: \"))\n",
    "for i in range(1, n+1):\n",
    "    if (n % i == 0):\n",
    "        print(i)"
   ]
  },
  {
   "cell_type": "code",
   "execution_count": 7,
   "metadata": {},
   "outputs": [
    {
     "name": "stdout",
     "output_type": "stream",
     "text": [
      "Enter the number: 4.5\n",
      "Enter the number: 3\n",
      "Enter the number: 3\n",
      "Enter the number: 3.5\n",
      "Equal\n"
     ]
    }
   ],
   "source": [
    "# Ex 3.30\n",
    "num1 = eval(input(\"Enter the number: \"))\n",
    "num2 = eval(input(\"Enter the number: \"))\n",
    "num3 = eval(input(\"Enter the number: \"))\n",
    "num4 = eval(input(\"Enter the number: \"))\n",
    "average = (num1 + num2 + num3) / 3\n",
    "if average == num4:\n",
    "    print(\"Equal\")\n"
   ]
  },
  {
   "cell_type": "code",
   "execution_count": 10,
   "metadata": {},
   "outputs": [
    {
     "name": "stdout",
     "output_type": "stream",
     "text": [
      "Enter the x coordinate: 2.5\n",
      "Enter the y coordinate: 4\n",
      "It is in\n"
     ]
    }
   ],
   "source": [
    "# Ex 3.31\n",
    "x = eval(input(\"Enter the x coordinate: \"))\n",
    "y = eval(input(\"Enter the y coordinate: \"))\n",
    "if (x and y) <= 10 and (x and y) >= -10:\n",
    "    print(\"It is in\")"
   ]
  },
  {
   "cell_type": "code",
   "execution_count": 68,
   "metadata": {},
   "outputs": [
    {
     "name": "stdout",
     "output_type": "stream",
     "text": [
      "Enter the number: 1234\n",
      "1\n",
      "2\n",
      "3\n",
      "4\n"
     ]
    }
   ],
   "source": [
    "# Ex 3.32\n",
    "num = int(input(\"Enter the number: \"))\n",
    "for i in repr(num):\n",
    "    if i.isdigit():\n",
    "        print(i)"
   ]
  },
  {
   "cell_type": "code",
   "execution_count": 14,
   "metadata": {},
   "outputs": [
    {
     "name": "stdout",
     "output_type": "stream",
     "text": [
      "Enter the string: abc\n",
      "cba\n",
      "Enter the string: dna\n",
      "and\n"
     ]
    }
   ],
   "source": [
    "# Ex 3.33\n",
    "# part a\n",
    "string = str(input(\"Enter the string: \"))\n",
    "def reverse_string(string):\n",
    "    print(string[:: -1])\n",
    "    return\n",
    "reverse_string(string)\n",
    "# part b\n",
    "string = str(input(\"Enter the string: \"))\n",
    "reverse_string(string)"
   ]
  },
  {
   "cell_type": "code",
   "execution_count": 4,
   "metadata": {},
   "outputs": [
    {
     "name": "stdout",
     "output_type": "stream",
     "text": [
      "Enter the hourly wage: 10\n",
      "Enter the number of hours employee worked in last week: 35\n",
      "Employee payment is:  350\n",
      "Enter the hourly wage: 10\n",
      "Enter the number of hours employee worked in last week: 45\n",
      "Employee payment is:  475.0\n"
     ]
    }
   ],
   "source": [
    "# Ex 3.34\n",
    "# part a\n",
    "def pay(wages, hoursWorked):\n",
    "    if hoursWorked > 40:\n",
    "        payment = (wages * 40) + ((wages * 1.5) * (hoursWorked - 40))\n",
    "        print(\"Employee payment is: \", payment)\n",
    "    else:\n",
    "        payment = wages * hoursWorked\n",
    "        print(\"Employee payment is: \", payment)\n",
    "    return\n",
    "wages = eval(input(\"Enter the hourly wage: \"))\n",
    "hoursWorked = eval(input(\"Enter the number of hours employee worked in last week: \"))\n",
    "pay(wages, hoursWorked)\n",
    "# part b\n",
    "wages = eval(input(\"Enter the hourly wage: \"))\n",
    "hoursWorked = eval(input(\"Enter the number of hours employee worked in last week: \"))\n",
    "pay(wages, hoursWorked)"
   ]
  },
  {
   "cell_type": "code",
   "execution_count": 8,
   "metadata": {},
   "outputs": [
    {
     "name": "stdout",
     "output_type": "stream",
     "text": [
      "Enter the number: 1\n",
      "0.5\n",
      "Enter the number: 2\n",
      "0.25\n"
     ]
    }
   ],
   "source": [
    "# Ex 3.35\n",
    "# part a\n",
    "def prob(n):\n",
    "    p = 2 ** (-n)\n",
    "    print(p)\n",
    "    return\n",
    "n = int(input(\"Enter the number: \"))\n",
    "prob(n)\n",
    "\n",
    "# part b\n",
    "n = int(input(\"Enter the number: \"))\n",
    "prob(n)"
   ]
  },
  {
   "cell_type": "code",
   "execution_count": 19,
   "metadata": {},
   "outputs": [
    {
     "name": "stdout",
     "output_type": "stream",
     "text": [
      "Enter the number: 123\n",
      "321\n"
     ]
    }
   ],
   "source": [
    "# Ex 3.36\n",
    "def reverse_int(number):\n",
    "    reverse = 0\n",
    "    while (number > 0):\n",
    "        reminder = number % 10\n",
    "        reverse = (reverse * 10) + reminder\n",
    "        number = number // 10\n",
    "    print(reverse)\n",
    "    return\n",
    "number = int(input(\"Enter the number: \"))\n",
    "reverse_int(number)"
   ]
  },
  {
   "cell_type": "code",
   "execution_count": 18,
   "metadata": {},
   "outputs": [
    {
     "name": "stdout",
     "output_type": "stream",
     "text": [
      "Enter the first x coordinate: 0\n",
      "Enter the first y coordinate: 0\n",
      "Enter the second x coordinate: 1\n",
      "Enter the second y  coordinate: 1\n",
      "The slope is:  1.0 \n",
      "The distance between two point is:  1.4142135623730951 cm\n",
      "Enter the first x coordinate: 0\n",
      "Enter the first y coordinate: 0\n",
      "Enter the second x coordinate: 0\n",
      "Enter the second y  coordinate: 1\n",
      "Slope is infinity and distance between two point is:  1.0 cm\n"
     ]
    }
   ],
   "source": [
    "# Ex 3.37\n",
    "# part a\n",
    "from math import sqrt\n",
    "def point(x1,y1,x2,y2):\n",
    "    if (x1 - x2) == 0:\n",
    "        distance = sqrt((x2 - x1)**2 + (y2 - y1)**2)\n",
    "        print(\"Slope is infinity and distance between two point is: \", distance, \"cm\")\n",
    "    else:\n",
    "        slope = (y2 - y1) / (x2 - x1)\n",
    "        distance = sqrt((x2 - x1)**2 + (y2 - y1)**2)\n",
    "        print(\"The slope is: \", slope, \"\\nThe distance between two point is: \",distance,\"cm\")\n",
    "    return\n",
    "x1 = int(input(\"Enter the first x coordinate: \"))\n",
    "y1 = int(input(\"Enter the first y coordinate: \"))\n",
    "x2 = int(input(\"Enter the second x coordinate: \"))\n",
    "y2 = int(input(\"Enter the second y  coordinate: \"))\n",
    "point(x1,y1,x2,y2)\n",
    "\n",
    "# part b\n",
    "x1 = int(input(\"Enter the first x coordinate: \"))\n",
    "y1 = int(input(\"Enter the first y coordinate: \"))\n",
    "x2 = int(input(\"Enter the second x coordinate: \"))\n",
    "y2 = int(input(\"Enter the second y  coordinate: \"))\n",
    "point(x1,y1,x2,y2)"
   ]
  },
  {
   "cell_type": "code",
   "execution_count": 21,
   "metadata": {},
   "outputs": [
    {
     "name": "stdout",
     "output_type": "stream",
     "text": [
      "Enter the day of a week: Tuesday\n",
      "Tu\n"
     ]
    }
   ],
   "source": [
    "# 3.38\n",
    "def abbreviation(day):\n",
    "    print(day[:2])\n",
    "    return\n",
    "day = str(input(\"Enter the day of a week: \"))\n",
    "abbreviation(day)"
   ]
  },
  {
   "cell_type": "code",
   "execution_count": 30,
   "metadata": {},
   "outputs": [
    {
     "name": "stdout",
     "output_type": "stream",
     "text": [
      "Enter the x coordinate of first circle: 0\n",
      "Enter the y coordinate of first circle: 0\n",
      "Enter the radius of first circle: 3\n",
      "Enter the x coordinate of second circle: 0\n",
      "Enter the y coordinate of second circle: 5\n",
      "Enter the radius of second circle: 3\n",
      "True\n",
      "\n",
      "\n",
      "Enter the x coordinate of first circle: 0\n",
      "Enter the y coordinate of first circle: 0\n",
      "Enter the radius of first circle: 1.4\n",
      "Enter the x coordinate of second circle: 2\n",
      "Enter the y coordinate of second circle: 2\n",
      "Enter the radius of second circle: 1.4\n"
     ]
    },
    {
     "data": {
      "text/plain": [
       "False"
      ]
     },
     "execution_count": 30,
     "metadata": {},
     "output_type": "execute_result"
    }
   ],
   "source": [
    "# Ex 3.39\n",
    "# part a\n",
    "def collision(x1, y1, r1, x2, y2, r2):\n",
    "    if (x1 == x2) and (r1 == r2):\n",
    "        print(\"True\")\n",
    "    else:\n",
    "        return False\n",
    "x1 = eval(input(\"Enter the x coordinate of first circle: \"))\n",
    "y1 = eval(input(\"Enter the y coordinate of first circle: \"))\n",
    "r1 = eval(input(\"Enter the radius of first circle: \"))\n",
    "x2 = eval(input(\"Enter the x coordinate of second circle: \"))\n",
    "y2 = eval(input(\"Enter the y coordinate of second circle: \"))\n",
    "r2 = eval(input(\"Enter the radius of second circle: \"))\n",
    "collision(x1, y1, r1, x2, y2, r2)\n",
    "print(\"\\n\")\n",
    "\n",
    "# part b\n",
    "x1 = eval(input(\"Enter the x coordinate of first circle: \"))\n",
    "y1 = eval(input(\"Enter the y coordinate of first circle: \"))\n",
    "r1 = eval(input(\"Enter the radius of first circle: \"))\n",
    "x2 = eval(input(\"Enter the x coordinate of second circle: \"))\n",
    "y2 = eval(input(\"Enter the y coordinate of second circle: \"))\n",
    "r2 = eval(input(\"Enter the radius of second circle: \"))\n",
    "collision(x1, y1, r1, x2, y2, r2)"
   ]
  },
  {
   "cell_type": "code",
   "execution_count": 31,
   "metadata": {},
   "outputs": [
    {
     "name": "stdout",
     "output_type": "stream",
     "text": [
      "Eleanor\n",
      "Evelyn\n",
      "Gavin\n"
     ]
    }
   ],
   "source": [
    "# Ex 3.40\n",
    "def partition(list):\n",
    "    for i in list:\n",
    "        if i[0] in \"ABCDEFGHIJKLM\":\n",
    "            print(i)\n",
    "partition([\"Eleanor\", \"Evelyn\", \"Sammy\", \"Owen\", \"Gavin\"])\n"
   ]
  },
  {
   "cell_type": "code",
   "execution_count": 34,
   "metadata": {},
   "outputs": [
    {
     "name": "stdout",
     "output_type": "stream",
     "text": [
      "Enter your first name: Ali\n",
      "Enter your last name: Ahmed\n",
      "Ahmed,A\n"
     ]
    }
   ],
   "source": [
    "# Ex 3.41\n",
    "def lastF(firstName, lastName):\n",
    "    print(lastName + \",\" + firstName[:1])\n",
    "    return\n",
    "firstName = str(input(\"Enter your first name: \"))\n",
    "lastName = str(input(\"Enter your last name: \"))\n",
    "lastF(firstName, lastName)"
   ]
  },
  {
   "cell_type": "code",
   "execution_count": 38,
   "metadata": {},
   "outputs": [
    {
     "name": "stdout",
     "output_type": "stream",
     "text": [
      " 90.0 \n",
      " 60.0 \n",
      " 87.0 \n",
      " 11.0\n"
     ]
    }
   ],
   "source": [
    "# Ex 3.42\n",
    "def avg(l1, l2, l3, l4):\n",
    "    a1 = sum(l1)/len(l1)\n",
    "    a2 = sum(l2)/len(l2)\n",
    "    a3 = sum(l3)/len(l3)\n",
    "    a4 = sum(l4)/len(l4)\n",
    "    print(\"\", a1,\"\\n\", a2,\"\\n\", a3,\"\\n\", a4)\n",
    "    return\n",
    "avg([95, 92, 86, 87], [66, 54], [89, 72, 100], [33, 0, 0])"
   ]
  },
  {
   "cell_type": "code",
   "execution_count": 46,
   "metadata": {},
   "outputs": [
    {
     "name": "stdout",
     "output_type": "stream",
     "text": [
      "True\n",
      "False\n"
     ]
    }
   ],
   "source": [
    "# Ex 3.43\n",
    "def hit(x1, y1, r1, x2, y2):\n",
    "    if (x2 <= r1) and (y2 <= r1):\n",
    "        print(\"True\")\n",
    "    else:\n",
    "        print(\"False\")\n",
    "    return\n",
    "hit(0, 0, 3, 3, 0)\n",
    "hit(0, 0, 3, 4, 0)"
   ]
  },
  {
   "cell_type": "code",
   "execution_count": 49,
   "metadata": {},
   "outputs": [
    {
     "name": "stdout",
     "output_type": "stream",
     "text": [
      "Distance of Thunder is:  1.0208700000000002 km\n"
     ]
    }
   ],
   "source": [
    "# Ex 3.44\n",
    "def distance(time):\n",
    "    speed = 340.29\n",
    "    dist = speed * time\n",
    "    print(\"Distance of Thunder is: \",dist / 1000, \"km\")\n",
    "    return\n",
    "distance(3)"
   ]
  }
 ],
 "metadata": {
  "kernelspec": {
   "display_name": "Python 3",
   "language": "python",
   "name": "python3"
  },
  "language_info": {
   "codemirror_mode": {
    "name": "ipython",
    "version": 3
   },
   "file_extension": ".py",
   "mimetype": "text/x-python",
   "name": "python",
   "nbconvert_exporter": "python",
   "pygments_lexer": "ipython3",
   "version": "3.7.3"
  }
 },
 "nbformat": 4,
 "nbformat_minor": 2
}
